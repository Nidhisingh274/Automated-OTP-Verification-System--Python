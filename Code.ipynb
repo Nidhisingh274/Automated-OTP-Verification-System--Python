{
  "cells": [
    {
      "cell_type": "markdown",
      "metadata": {
        "id": "bn1W8KGK0NjD"
      },
      "source": [
        "## Project Title: OTP Verification System\n",
        "\n"
      ]
    },
    {
      "cell_type": "markdown",
      "metadata": {
        "id": "7VNtTz6g0pKz"
      },
      "source": []
    },
    {
      "cell_type": "code",
      "execution_count": null,
      "metadata": {
        "id": "7PjVZMUYKhGr"
      },
      "outputs": [],
      "source": [
        "import random  \n",
        "import smtplib \n",
        "from email.message import EmailMessage  \n",
        "\n",
        "# Function to generate OTP\n",
        "def generate_otp():\n",
        "    return ''.join(random.choices('0123456789', k=6)) \n",
        "\n",
        "# Function to send OTP via email\n",
        "def send_otp(from_mail, email_password, to_mail, otp):\n",
        "    try:\n",
        "        # Connect to SMTP server\n",
        "        server = smtplib.SMTP('smtp.gmail.com', 587) \n",
        "        server.starttls()  \n",
        "\n",
        "        # Login to email server\n",
        "        server.login(from_mail, email_password)  \n",
        "\n",
        "        # Compose email message\n",
        "        msg = EmailMessage() \n",
        "        msg['Subject'] = \"OTP Verification\" \n",
        "        msg['From'] = from_mail  \n",
        "        msg['To'] = to_mail \n",
        "        msg.set_content(\"Your OTP is: \" + otp)  \n",
        "\n",
        "        # Send email\n",
        "        server.send_message(msg)  \n",
        "        print(\"OTP has been sent to your email.\")  \n",
        "\n",
        "        # Quit SMTP server\n",
        "        server.quit()  \n",
        "        return True  \n",
        "    except Exception as e:\n",
        "        print(\"Error:\", e)  \n",
        "        return False  \n",
        "\n",
        "# Your email credentials\n",
        "from_mail = 'xxxx@gmail.com'  \n",
        "email_password = from_mail  \n",
        "\n",
        "# Prompt user to enter their email\n",
        "to_mail = input(\"Enter your email address: \")  \n",
        "\n",
        "# Generate OTP\n",
        "otp = generate_otp()  \n",
        "\n",
        "# Send OTP via email\n",
        "if send_otp(from_mail, email_password, to_mail, otp): \n",
        "    attempts = 3 \n",
        "    while attempts > 0: \n",
        "        # Prompt user to enter OTP\n",
        "        input_otp = input(\"Enter OTP: \")  \n",
        "        if input_otp == otp: \n",
        "            print(\"OTP Verified\") \n",
        "            break  \n",
        "        else:  \n",
        "            attempts -= 1  \n",
        "            print(\"Wrong OTP. Attempts left:\", attempts)  \n",
        "    else:  \n",
        "        print(\"Attempts limit crossed. Please try again later.\")  \n",
        "else: \n",
        "    print(\"Failed to send OTP. Please try again later.\")  \n"
      ]
    }
  ],
  "metadata": {
    "colab": {
      "provenance": []
    },
    "kernelspec": {
      "display_name": "Python 3",
      "name": "python3"
    },
    "language_info": {
      "name": "python"
    }
  },
  "nbformat": 4,
  "nbformat_minor": 0
}
