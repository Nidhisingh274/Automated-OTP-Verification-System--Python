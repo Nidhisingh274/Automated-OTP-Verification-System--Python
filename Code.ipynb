{
  "cells": [
    {
      "cell_type": "markdown",
      "metadata": {
        "id": "bn1W8KGK0NjD"
      },
      "source": [
        "## Project Title: OTP Verification System\n",
        "\n"
      ]
    },
    {
      "cell_type": "markdown",
      "metadata": {
        "id": "7VNtTz6g0pKz"
      },
      "source": []
    },
    {
      "cell_type": "code",
      "execution_count": null,
      "metadata": {
        "id": "7PjVZMUYKhGr"
      },
      "outputs": [],
      "source": [
        "import random  # Import the random module for generating OTP\n",
        "import smtplib  # Import the smtplib module for sending email\n",
        "from email.message import EmailMessage  # Import EmailMessage class for composing email\n",
        "\n",
        "# Function to generate OTP\n",
        "def generate_otp():\n",
        "    return ''.join(random.choices('0123456789', k=6))  # Generate a 6-digit OTP\n",
        "\n",
        "# Function to send OTP via email\n",
        "def send_otp(from_mail, email_password, to_mail, otp):\n",
        "    try:\n",
        "        # Connect to SMTP server\n",
        "        server = smtplib.SMTP('smtp.gmail.com', 587)  # Connect to Gmail SMTP server\n",
        "        server.starttls()  # Start TLS encryption\n",
        "\n",
        "        # Login to email server\n",
        "        server.login(from_mail, email_password)  # Login using sender's email and password\n",
        "\n",
        "        # Compose email message\n",
        "        msg = EmailMessage()  # Create an EmailMessage object\n",
        "        msg['Subject'] = \"OTP Verification\"  # Set email subject\n",
        "        msg['From'] = from_mail  # Set sender's email address\n",
        "        msg['To'] = to_mail  # Set recipient's email address\n",
        "        msg.set_content(\"Your OTP is: \" + otp)  # Set email body containing OTP\n",
        "\n",
        "        # Send email\n",
        "        server.send_message(msg)  # Send the email message\n",
        "        print(\"OTP has been sent to your email.\")  # Inform user about OTP delivery\n",
        "\n",
        "        # Quit SMTP server\n",
        "        server.quit()  # Close the SMTP connection\n",
        "        return True  # Return True if OTP sent successfully\n",
        "    except Exception as e:\n",
        "        print(\"Error:\", e)  # Print error message if sending OTP fails\n",
        "        return False  # Return False if OTP sending fails\n",
        "\n",
        "# Your email credentials\n",
        "from_mail = 'xxxx@gmail.com'  # Sender's email address\n",
        "email_password = from_mail  # Sender's email password\n",
        "\n",
        "# Prompt user to enter their email\n",
        "to_mail = input(\"Enter your email address: \")  # Get recipient's email address from user input\n",
        "\n",
        "# Generate OTP\n",
        "otp = generate_otp()  # Generate a new OTP\n",
        "\n",
        "# Send OTP via email\n",
        "if send_otp(from_mail, email_password, to_mail, otp):  # Send OTP using provided email credentials\n",
        "    attempts = 3  # Initialize attempts counter to 3\n",
        "    while attempts > 0:  # Loop until attempts counter reaches 0\n",
        "        # Prompt user to enter OTP\n",
        "        input_otp = input(\"Enter OTP: \")  # Get OTP from user input\n",
        "        if input_otp == otp:  # If entered OTP matches generated OTP\n",
        "            print(\"OTP Verified\")  # Inform user about OTP verification success\n",
        "            break  # Exit the loop\n",
        "        else:  # If entered OTP does not match generated OTP\n",
        "            attempts -= 1  # Decrement attempts counter by 1\n",
        "            print(\"Wrong OTP. Attempts left:\", attempts)  # Inform user about remaining attempts\n",
        "    else:  # If all attempts are used up\n",
        "        print(\"Attempts limit crossed. Please try again later.\")  # Inform user about attempts limit\n",
        "else:  # If OTP sending fails\n",
        "    print(\"Failed to send OTP. Please try again later.\")  # Inform user about OTP sending failure\n"
      ]
    }
  ],
  "metadata": {
    "colab": {
      "provenance": []
    },
    "kernelspec": {
      "display_name": "Python 3",
      "name": "python3"
    },
    "language_info": {
      "name": "python"
    }
  },
  "nbformat": 4,
  "nbformat_minor": 0
}
